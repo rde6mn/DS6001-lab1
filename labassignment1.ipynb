{
 "cells": [
  {
   "cell_type": "markdown",
   "metadata": {},
   "source": [
    "# Lab Assignment 1: How to Get Yourself Unstuck\n",
    "## DS 6001\n",
    "\n",
    "100 points\n",
    "\n",
    "### Answer Key"
   ]
  },
  {
   "cell_type": "markdown",
   "metadata": {},
   "source": [
    "## Problem 0\n",
    "On Canvas, under Modules, there is a section called Getting Started with the Tools We'll Be Using. Read the chapter posted under Background Reading, up through but not including the requirements.txt files section. Here is a direct link to the book: https://jkropko.github.io/surfing-the-data-pipeline/docker.html \n",
    "\n",
    "In addition, follow the written steps or the video for getting a Conda environment set up for this class under the Video and Written Guide section. Then answer the following questions.\n",
    "\n",
    "### Part a\n",
    "What are the primary uses of a virtual environment, such as the Conda environment we are using in class? [5 points]\n"
   ]
  },
  {
   "cell_type": "markdown",
   "metadata": {},
   "source": [
    "\n",
    "### Part b\n",
    "What are the main differences between the global environment, a virtual environment, a container, and a virtual machine? [5 points]"
   ]
  },
  {
   "cell_type": "markdown",
   "metadata": {},
   "source": [
    "\n",
    "### Part c\n",
    "After following the instructions on Canvas for creating a conda virtual environment for this class, select it as the kernel for this notebook. Then import all of the following packages. It should run without error. [5 points]"
   ]
  },
  {
   "cell_type": "code",
   "execution_count": 1,
   "metadata": {},
   "outputs": [],
   "source": [
    "import numpy as np\n",
    "import pandas as pd\n",
    "import plotly.express as px\n",
    "import prince\n",
    "import requests\n",
    "import prince\n",
    "import wquantiles\n",
    "import matplotlib.pyplot as plt\n",
    "import seaborn as sns\n",
    "import sidetable\n",
    "import sqlalchemy\n",
    "import psycopg\n",
    "import mysql.connector\n",
    "import pymongo\n",
    "from scipy import stats\n",
    "from sklearn import manifold"
   ]
  },
  {
   "cell_type": "markdown",
   "metadata": {},
   "source": [
    "\n",
    "## Problem 1 \n",
    "Please read the following blog post describing some common Python errors: https://www.tutorialsteacher.com/python/error-types-in-python. Then for each of the following situations, state the what type of exception is Python likely to produce. (I'm looking for specific Exceptions that appear in the table on this website.) [2 points each]\n",
    "\n",
    "### Part a\n",
    "I accidentally type two closing parentheses )) instead of one at the end of a line of code."
   ]
  },
  {
   "cell_type": "markdown",
   "metadata": {},
   "source": [
    "### Part b\n",
    "I found some code where someone created a useful function using the `def` statement. I copy that code and paste it into my own script. However, the copy-and-pasting somehow got rid of all my tabs so that every line is aligned on the left."
   ]
  },
  {
   "cell_type": "markdown",
   "metadata": {},
   "source": [
    "### Part c\n",
    "I use Python to calculate the number of atoms within every star in every galaxy in the universe."
   ]
  },
  {
   "cell_type": "markdown",
   "metadata": {},
   "source": [
    "### Part d\n",
    "I divide $\\pi$ by the number of [Super Bowls won by the Cleveland Browns](https://www.espn.com/nfl/story/_/id/39387513/which-nfl-teams-never-won-super-bowl)."
   ]
  },
  {
   "cell_type": "markdown",
   "metadata": {},
   "source": [
    "### Part e\n",
    "I am hungry, so I reset my Python kernel and start a new script. I write one line of code: `print(tacos)`."
   ]
  },
  {
   "cell_type": "markdown",
   "metadata": {},
   "source": [
    "### Part f\n",
    "I download the entire internet so I can run a regression on it."
   ]
  },
  {
   "cell_type": "markdown",
   "metadata": {},
   "source": [
    "### Part g\n",
    "I take the square root of the words \"twenty five\"."
   ]
  },
  {
   "cell_type": "markdown",
   "metadata": {},
   "source": [
    "### Part h\n",
    "Something entirely different and unexpected happens, causing Python to stop short, its words caught in its mouth, as if reason itself boarded the last train to Seattle in the chill of an unforgiving winter's night. There is no explanation, nor can there ever be. Only one thing is certain: something went wrong."
   ]
  },
  {
   "cell_type": "markdown",
   "metadata": {},
   "source": [
    "## Problem 2\n",
    "Use the built-in docstrings or `help()` text for each method to answer the following questions:\n",
    "\n",
    "### Part a\n",
    "I am loading data from a CSV file using `pd.read_csv()`. But it is taking a long time. Find a parameter that can speed up this method by using the C engine instead of the Python one. [5 points]"
   ]
  },
  {
   "cell_type": "markdown",
   "metadata": {},
   "source": [
    "### Part b \n",
    "I create the following dictionary:\n",
    "```\n",
    "mytrips = {'Portland': 'So many bicycles',\n",
    "           'Nashville': 'Lost in Opryland Mall again',\n",
    "           'Richmond': 'Got tattoo and became a hipster',\n",
    "           'San Diego': 'Chased off beach by sea lion'}\n",
    "```\n",
    "How can I see only the cities I've visited (the keys) but not the travel notes (the values)? [5 points]"
   ]
  },
  {
   "cell_type": "markdown",
   "metadata": {},
   "source": [
    "### Part c\n",
    "I am using `px.scatter()` from plotly express to create an HTML enabled scatterplot. How would I add a box plot to the x-axis to visualize the distribution of the x variable? [5 points]"
   ]
  },
  {
   "cell_type": "markdown",
   "metadata": {},
   "source": [
    "## Problem 3\n",
    "For the following questions, find some examples of people using Stack Overflow badly, either by being toxic while answering a question, or by asking a poorly worded or researched question. You will have to do some digging as these sorts of behaviors aren't the first ones that pop up in a normal search. For toxic answers, look down the page for responses that are NOT the ones accepted by the question-asker. (Remember, these responses are pretty well hidden to us, but they came through loud and clear for the original asker.) For poor questions, look for posts with few responses or maybe some downvotes. \n",
    "\n",
    "### Part a\n",
    "Search through the questions on Stack Overflow tagged as Python questions: https://stackoverflow.com/questions/tagged/python. Find a question in which an answerer exhibits passive toxic behavior as defined in this module's notebook. Provide a link, and describe what specific behavior leads you to identify this answer as toxic. [6 points]"
   ]
  },
  {
   "cell_type": "markdown",
   "metadata": {},
   "source": [
    "### Part b\n",
    "Search through the questions on Stack Overflow tagged as Python questions: https://stackoverflow.com/questions/tagged/python. Find a question in which a questioner self-sabotages by asking the question in a way that the community does not appreciate. Provide a link, and describe what the questioner did specifically to annoy the community of answerers. [6 points]"
   ]
  },
  {
   "cell_type": "markdown",
   "metadata": {},
   "source": [
    "## Problem 4\n",
    "These days there are so many Marvel superheros, but only six superheros count as original Avengers: Hulk, Captain America, Iron Man, Black Widow, Hawkeye, and Thor. I wrote a function, `is_avenger()`, that takes a string as an input. The function looks to see if this string is the name of one of the original six Avengers. If so, it prints that the string is an original Avenger, and if not, it prints that the string is not an original Avenger. Here’s the code for the function:"
   ]
  },
  {
   "cell_type": "code",
   "execution_count": 2,
   "metadata": {},
   "outputs": [],
   "source": [
    "def is_avenger(name):\n",
    "    if name==\"Hulk\" or \"Captain America\" or \"Iron Man\" or \"Black Widow\" or \"Hawkeye\" or \"Thor\":\n",
    "        print(name  + \"'s an original Avenger!\")\n",
    "    else:\n",
    "        print(name + \" is NOT an original Avenger.\")"
   ]
  },
  {
   "cell_type": "markdown",
   "metadata": {},
   "source": [
    "To test whether this function is working, I pass the names of some original Avengers to the function:"
   ]
  },
  {
   "cell_type": "code",
   "execution_count": 3,
   "metadata": {},
   "outputs": [
    {
     "name": "stdout",
     "output_type": "stream",
     "text": [
      "Black Widow's an original Avenger!\n"
     ]
    }
   ],
   "source": [
    "is_avenger(\"Black Widow\")"
   ]
  },
  {
   "cell_type": "code",
   "execution_count": 4,
   "metadata": {},
   "outputs": [
    {
     "name": "stdout",
     "output_type": "stream",
     "text": [
      "Iron Man's an original Avenger!\n"
     ]
    }
   ],
   "source": [
    "is_avenger(\"Iron Man\")"
   ]
  },
  {
   "cell_type": "code",
   "execution_count": 5,
   "metadata": {},
   "outputs": [
    {
     "name": "stdout",
     "output_type": "stream",
     "text": [
      "Hulk's an original Avenger!\n"
     ]
    }
   ],
   "source": [
    "is_avenger(\"Hulk\")"
   ]
  },
  {
   "cell_type": "markdown",
   "metadata": {},
   "source": [
    "Looks good! But next, I pass some other strings to the function:"
   ]
  },
  {
   "cell_type": "code",
   "execution_count": 6,
   "metadata": {},
   "outputs": [
    {
     "name": "stdout",
     "output_type": "stream",
     "text": [
      "Spiderman's an original Avenger!\n"
     ]
    }
   ],
   "source": [
    "is_avenger(\"Spiderman\")"
   ]
  },
  {
   "cell_type": "code",
   "execution_count": 7,
   "metadata": {},
   "outputs": [
    {
     "name": "stdout",
     "output_type": "stream",
     "text": [
      "Beyonce's an original Avenger!\n"
     ]
    }
   ],
   "source": [
    "is_avenger(\"Beyonce\")"
   ]
  },
  {
   "cell_type": "markdown",
   "metadata": {},
   "source": [
    "Beyonce is a hero, but she was too busy going on tour to be in the Avengers movie. Also, Spiderman definitely was NOT an original Avenger. It turns out that this function will display that any string we write here is an original Avenger, which is incorrect. To fix this function, let’s turn to Stack Overflow.\n",
    "\n",
    "#### Part a\n",
    "The first step to solving a problem using Stack Overflow is to do a comprehensive search of available resources to try to solve the problem. There is a post on Stack Overflow that very specifically solves our problem. Do a Google search and find this post. In your lab report, write the link to this Stack Overflow page, and the search terms you entered into Google to find this page.\n",
    "\n",
    "Then apply the solution on this Stack Overflow page to fix the `is_avenger()` function, and test the function to confirm that it works as we expect. [8 points]\n"
   ]
  },
  {
   "cell_type": "markdown",
   "metadata": {},
   "source": [
    "#### Part b\n",
    "Suppose that no Stack Overflow posts yet existed to help us solve this problem. It would be time to consider writing a post ourselves. In your notebook, write a good title for this post. Do NOT copy the title to the posts you found for part a. (Hint: for details on how to write a good title see the slides or https://stackoverflow.com/help/how-to-ask) [8 points]"
   ]
  },
  {
   "cell_type": "markdown",
   "metadata": {},
   "source": [
    "#### Part c\n",
    "One characteristic of a Stack Overflow post that is likely to get good responses is a minimal working example. A minimal working example is code with the following properties:\n",
    "\n",
    "1. It can be executed on anyone’s local machine without needing a data file or a hard-to-get package or module\n",
    "\n",
    "2. It always produces the problematic output\n",
    "\n",
    "3. It using as few lines of code as possible, and is written in the simplest way to write that code\n",
    "\n",
    "Write a minimal working example for this problem. (Hint: the problem at hand has nothing to do with the Avengers, really.) [8 points]"
   ]
  },
  {
   "cell_type": "markdown",
   "metadata": {},
   "source": [
    "## Problem 5\n",
    "This problem focuses on how to use an LLM as a code assistant for coding tasks. In this course you are free to use any LLM you want, or none at all, so long as you remember that LLM code assistants are wonderfuly useful if you know how to code and quite destructive to your ability to learn the basics if you do not, so pay attention to your use of AI and catch yourself if you see yourself using these tools as crutches.\n",
    "\n",
    "However, for this problem only, please download \n",
    "\n",
    "* [VS Code](https://code.visualstudio.com)\n",
    "\n",
    "* The [Python plug-in](https://marketplace.visualstudio.com/items?itemName=ms-python.python) for VS Code\n",
    "\n",
    "* The [Jupyter plug-in](https://marketplace.visualstudio.com/items?itemName=ms-toolsai.jupyter) for VS Code\n",
    "\n",
    "* And the [Windsurf plug-in](https://marketplace.visualstudio.com/items?itemName=Codeium.CodeiumVS) for VS Code (after creating a free account on [Windsurf.com](https://windsurf.com/vscode_tutorial))\n",
    "\n",
    "Please review [section 1.9 of Surfing the Data Pipeline with Python](https://jkropko.github.io/surfing-the-data-pipeline/ch1.html#method-5-using-a-large-language-model-a-chatbot-to-generate-and-debug-code) to learn about how to use the autocomplete, in-line prompting, and external chat functionality that Windsurf provides.\n",
    "\n",
    "Once you have these tools installed, we will use them to address the following problem:\n",
    "\n",
    "The [Collatz Conjecture](https://en.wikipedia.org/wiki/Collatz_conjecture) states that if you take a positive integer and apply the following algorithm:\n",
    "\n",
    "* If even, divide by two\n",
    "* If odd, multiply by 3 and add 1\n",
    "\n",
    "And then repeat these steps for the result, then eventually every number (no matter how large) will converge to a sequence of 4, 2, 1, 4, 2, 1, ... This statement is a conjecture because it is not proven for all positive integers. \n",
    "\n",
    "<img src=\"https://imgs.xkcd.com/comics/collatz_conjecture.png\" width=300>\n",
    "\n",
    "Source: https://xkcd.com/710/ \n",
    "\n",
    "### Part a\n",
    "Use the Windsurf external chat window to ask for a Python function that applies the Collatz algorithm described above one time to a given positive integer. Write your prompt in your notebook and paste the code it returns in a code cell. [6 points]"
   ]
  },
  {
   "cell_type": "markdown",
   "metadata": {},
   "source": [
    "### Part b\n",
    "Copy the function you received in part a in a new code cell. Place your cursor somewhere inside the function prior to the `return` statements, and use in-line prompting to ask Windsurf to add a `ValueError` if the inputted number is negative and a `TypeError` if the inputted number is not an integer. [6 points]"
   ]
  },
  {
   "cell_type": "markdown",
   "metadata": {},
   "source": [
    "### Part c\n",
    "To test whether applying the Collatz function repeatedly will eventually result in an output of 1, write a while loop that begins with a user-specified positive integer and applies the function from part b over and over until a value of 1 is achieved. Instead of prompting the LLM to create this loop, try coding it yourself but use the autocompletion feature as much as you can. [6 points]"
   ]
  }
 ],
 "metadata": {
  "kernelspec": {
   "display_name": "ds6001summer2025",
   "language": "python",
   "name": "python3"
  },
  "language_info": {
   "codemirror_mode": {
    "name": "ipython",
    "version": 3
   },
   "file_extension": ".py",
   "mimetype": "text/x-python",
   "name": "python",
   "nbconvert_exporter": "python",
   "pygments_lexer": "ipython3",
   "version": "3.13.2"
  }
 },
 "nbformat": 4,
 "nbformat_minor": 2
}
