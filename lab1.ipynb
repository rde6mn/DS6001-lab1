{
 "cells": [
  {
   "cell_type": "markdown",
   "id": "c9210e9f",
   "metadata": {},
   "source": [
    "Question 1: Virtual environments are used for version control. You can use it to ensure that you have all the oackages + the right versions of Python as need for applications."
   ]
  },
  {
   "cell_type": "markdown",
   "id": "956c5bc4",
   "metadata": {},
   "source": [
    "Question 2: Global environments make packages available throughout the entire systems. Virtual envs are one level obve global environments, as you can use only relevant packages and Python versions for projects. Containers, allow things to not break if someone has a different OS than yours. It is one step above a virtual environment. Nothing gets in or out unless you issue a specifc command to have that file come in or out of the container. Containers allow you to control Python version and OS. Virtual machines are one level above containers. They control for hardware; you can control how many cores, processors, and softwares you have. As you go up each of these 4 levels, you can isolate more factors. "
   ]
  }
 ],
 "metadata": {
  "language_info": {
   "name": "python"
  }
 },
 "nbformat": 4,
 "nbformat_minor": 5
}
